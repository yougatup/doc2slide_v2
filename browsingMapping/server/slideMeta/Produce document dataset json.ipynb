{
 "cells": [
  {
   "cell_type": "code",
   "execution_count": 5,
   "id": "6a02a2e5",
   "metadata": {},
   "outputs": [],
   "source": [
    "from os import listdir\n",
    "from os.path import isfile, join\n",
    "\n",
    "myList = listdir(\"./slideData/\")\n"
   ]
  },
  {
   "cell_type": "code",
   "execution_count": 13,
   "id": "5a9666d7",
   "metadata": {},
   "outputs": [],
   "source": [
    "import json\n",
    "\n",
    "result = []\n",
    "\n",
    "for d in myList :\n",
    "    if d.isdigit() :\n",
    "        f = open('./slideData/' + str(d) + '/paperData.json')\n",
    " \n",
    "        data = json.load(f)\n",
    " \n",
    "        data[\"id\"] = d\n",
    "        result.append(data)\n",
    "    \n",
    "f = open(\"paper_database.json\", \"w\")\n",
    "\n",
    "f.write(json.dumps(result))\n",
    "\n",
    "f.close()"
   ]
  },
  {
   "cell_type": "code",
   "execution_count": null,
   "id": "94f39669",
   "metadata": {},
   "outputs": [],
   "source": []
  }
 ],
 "metadata": {
  "kernelspec": {
   "display_name": "Python 3 (ipykernel)",
   "language": "python",
   "name": "python3"
  },
  "language_info": {
   "codemirror_mode": {
    "name": "ipython",
    "version": 3
   },
   "file_extension": ".py",
   "mimetype": "text/x-python",
   "name": "python",
   "nbconvert_exporter": "python",
   "pygments_lexer": "ipython3",
   "version": "3.7.12"
  }
 },
 "nbformat": 4,
 "nbformat_minor": 5
}
